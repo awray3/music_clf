{
 "cells": [
  {
   "cell_type": "markdown",
   "metadata": {},
   "source": [
    "## Intro\n",
    "\n",
    "When Librosa loads an audio file, there is a default sample rate, which is the number of samples from the mp3's audio signal for one second. Therefore,\n",
    "to get the length of a song in real time we take the length of the read-in array and divide by the sample rate for that audio sample."
   ]
  },
  {
   "cell_type": "code",
   "execution_count": null,
   "metadata": {},
   "outputs": [],
   "source": [
    "# system packages\n",
    "import os\n",
    "import warnings\n",
    "import timeit\n",
    "\n",
    "# data stuff\n",
    "import matplotlib.pyplot as plt\n",
    "import pandas as pd\n",
    "import numpy as np\n",
    "\n",
    "# tensorflow and keras\n",
    "import tensorflow as tf\n",
    "from tensorflow.keras.utils import to_categorical\n",
    "\n",
    "## sklearn stuff\n",
    "from sklearn.preprocessing import LabelEncoder\n",
    "\n",
    "## Audio Stuff\n",
    "import librosa\n",
    "import librosa.display\n",
    "import torchaudio\n",
    "\n",
    "# My functions and classes\n",
    "from utilities import view_melspec, read_metadata_file, Batch_generator\n",
    "\n",
    "warnings.filterwarnings(\"ignore\", category=UserWarning)"
   ]
  },
  {
   "cell_type": "code",
   "execution_count": null,
   "metadata": {},
   "outputs": [],
   "source": [
    "# VERY GLOBAL VARIABLES \n",
    "audio_dir = './data/fma_small/'\n",
    "global_dur = 0.5\n",
    "global_sr = 16000"
   ]
  },
  {
   "cell_type": "markdown",
   "metadata": {},
   "source": [
    "The next code chunk is Super handy function that just searches for every mp3 file within the audio directory. \n",
    "My audio folder has a bunch of subfolders like '000', '099', etc, and the audio files are\n",
    "one level further down."
   ]
  },
  {
   "cell_type": "code",
   "execution_count": null,
   "metadata": {},
   "outputs": [],
   "source": [
    "filepaths = librosa.util.files.find_files(audio_dir)"
   ]
  },
  {
   "cell_type": "markdown",
   "metadata": {},
   "source": [
    "Here is what a typical load looks like. Specifying `sr=None` ensures that the file's default sample-rate is preserved. \n",
    "We can also specify the duration with `librosa.load`."
   ]
  },
  {
   "cell_type": "code",
   "execution_count": null,
   "metadata": {},
   "outputs": [],
   "source": [
    "example_source, sr = librosa.load(filepaths[0], sr=global_sr, duration=0.5)\n",
    "librosa.get_duration(example_source, sr=sr)"
   ]
  },
  {
   "cell_type": "code",
   "execution_count": null,
   "metadata": {},
   "outputs": [],
   "source": [
    "plt.plot(example_source)\n",
    "plt.title(f\"The first {librosa.get_duration(example_source, sr=sr)} seconds of an audio file\")\n",
    "plt.xlabel(\"Sample Position\")\n",
    "plt.ylabel(\"Amplitude\")\n",
    "plt.show()"
   ]
  },
  {
   "cell_type": "code",
   "execution_count": null,
   "metadata": {},
   "outputs": [],
   "source": [
    "view_melspec(example_source, sr)"
   ]
  },
  {
   "cell_type": "markdown",
   "metadata": {},
   "source": [
    "## How long does a typical load take?"
   ]
  },
  {
   "cell_type": "code",
   "execution_count": null,
   "metadata": {},
   "outputs": [],
   "source": [
    "%%timeit\n",
    "\n",
    "librosa.load(filepaths[0], sr=None, duration = global_dur)\n",
    "# librosa.get_samplerate(filepaths[0])"
   ]
  },
  {
   "cell_type": "markdown",
   "metadata": {},
   "source": [
    "On my linux virtual machine, one second of audio takes between 143 and 214 milliseconds to load one second of audio (down to 129 ms if we don't force a sample rate). \n",
    "Multiplying this number by 8 is about how long it will take to load the entire dataset in. I estimate about 15 minutes for the whole FMA Small dataset.\n",
    "\n",
    "However, on my macbook it takes about 16 ms to load one second of audio in. For five seconds of audio, about 34 ms. This is much faster than the ubuntu machine! This means an estimated 134 seconds, or about two minutes."
   ]
  },
  {
   "cell_type": "code",
   "execution_count": null,
   "metadata": {},
   "outputs": [],
   "source": [
    "%%timeit \n",
    "\n",
    "torchaudio.info(filepaths[0])"
   ]
  },
  {
   "cell_type": "markdown",
   "metadata": {},
   "source": [
    "This runs a lot faster at 270 microseconds on my ubuntu virtual machine, so it will be a better tool to \n",
    "check for integrity. On the macbook it takes about 330 microseconds, a bit slower.\n"
   ]
  },
  {
   "cell_type": "markdown",
   "metadata": {},
   "source": [
    "## Check for integrity"
   ]
  },
  {
   "cell_type": "markdown",
   "metadata": {},
   "source": [
    "This is the only point where I will use `torchaudio` for the `torchaudio.info` method. This method\n",
    "tries to open the file without loading it into memory. This allows us to check\n",
    "for corrupted mp3 files. If this leads to a very long list of files, double check the integrity\n",
    "of your download."
   ]
  },
  {
   "cell_type": "code",
   "execution_count": null,
   "metadata": {},
   "outputs": [],
   "source": [
    "bad_files = []\n",
    "too_short_duration = 5.0 # seconds\n",
    "for file in filepaths:\n",
    "    try:\n",
    "        info_obj = torchaudio.info(file)[0]\n",
    "        \n",
    "        # Add a file to the bad list if it is shorter than 5 seconds.\n",
    "        if (info_obj.length / (info_obj.rate  * info_obj.channels)  < 5.0):\n",
    "            bad_files.append(file)\n",
    "            \n",
    "    except RuntimeError:\n",
    "        bad_files.append(file)\n",
    "bad_files"
   ]
  },
  {
   "cell_type": "markdown",
   "metadata": {},
   "source": [
    "## Estimating memory cost"
   ]
  },
  {
   "cell_type": "code",
   "execution_count": null,
   "metadata": {},
   "outputs": [],
   "source": [
    "# Find out how much one second costs in memory\n",
    "example_source, sr = librosa.load(filepaths[0], sr=None, duration=1)\n",
    "\n",
    "# Estimate for all songs\n",
    "print(f\"{(example_source.nbytes/10**9) * 8000} GB of memory for all 8000 songs\") # gigabytes"
   ]
  },
  {
   "cell_type": "markdown",
   "metadata": {},
   "source": [
    "## Managing Metadata "
   ]
  },
  {
   "cell_type": "markdown",
   "metadata": {},
   "source": [
    "The following code takes the giant metadata file coming with the FMA datasets and selects\n",
    "the track ids and the genres."
   ]
  },
  {
   "cell_type": "code",
   "execution_count": null,
   "metadata": {},
   "outputs": [],
   "source": [
    "metadata_path = os.path.join('data','fma_metadata', 'tracks.csv')\n",
    "\n",
    "# See utilities.py for explanations\n",
    "reduced_meta = read_metadata_file(metadata_path, filepaths, bad_files)"
   ]
  },
  {
   "cell_type": "code",
   "execution_count": null,
   "metadata": {},
   "outputs": [],
   "source": [
    "## check to make sure each path points to the right file\n",
    "reduced_meta['track_id'].equals(\n",
    "    reduced_meta['path'].apply(lambda x: int(os.path.split(x)[1][:-4]))\n",
    ")"
   ]
  },
  {
   "cell_type": "code",
   "execution_count": null,
   "metadata": {},
   "outputs": [],
   "source": [
    "reduced_meta.head()"
   ]
  },
  {
   "cell_type": "markdown",
   "metadata": {},
   "source": [
    "## Batch Generator"
   ]
  },
  {
   "cell_type": "markdown",
   "metadata": {},
   "source": [
    "Since the data takes a lot of memory I will use a custom generator that loads batches as needed from the hard disk."
   ]
  },
  {
   "cell_type": "code",
   "execution_count": null,
   "metadata": {},
   "outputs": [],
   "source": [
    "test_loader = Batch_generator(reduced_meta.iloc[:10, :], batch_size=2, sr=global_sr, duration=global_dur)"
   ]
  },
  {
   "cell_type": "code",
   "execution_count": null,
   "metadata": {},
   "outputs": [],
   "source": [
    "test_loader._stack_melspecs(filepaths[:2]).shape"
   ]
  },
  {
   "cell_type": "code",
   "execution_count": null,
   "metadata": {},
   "outputs": [],
   "source": []
  }
 ],
 "metadata": {
  "kernelspec": {
   "display_name": "tf_fma",
   "language": "python",
   "name": "tf_fma"
  },
  "language_info": {
   "codemirror_mode": {
    "name": "ipython",
    "version": 3
   },
   "file_extension": ".py",
   "mimetype": "text/x-python",
   "name": "python",
   "nbconvert_exporter": "python",
   "pygments_lexer": "ipython3",
   "version": "3.7.5"
  }
 },
 "nbformat": 4,
 "nbformat_minor": 4
}
